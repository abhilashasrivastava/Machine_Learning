{
  "cells": [
    {
      "cell_type": "code",
      "execution_count": 1,
      "metadata": {
        "id": "XEVtpx7L1YR7"
      },
      "outputs": [],
      "source": [
        "import numpy as np"
      ]
    },
    {
      "cell_type": "code",
      "source": [
        "from google.colab import drive\n",
        "drive.mount('/content/drive')"
      ],
      "metadata": {
        "colab": {
          "base_uri": "https://localhost:8080/"
        },
        "id": "b8rrCxJtP7nD",
        "outputId": "1073bd42-1efa-4618-f59e-b766527bea81"
      },
      "execution_count": 2,
      "outputs": [
        {
          "output_type": "stream",
          "name": "stdout",
          "text": [
            "Mounted at /content/drive\n"
          ]
        }
      ]
    },
    {
      "cell_type": "code",
      "execution_count": 3,
      "metadata": {
        "id": "eNB2gFQK1YSB"
      },
      "outputs": [],
      "source": [
        "l1 = [1, 4, 5, 2, 6, 3]\n",
        "# l1 = [1, 1235234, 45 , 5, 10 ,125]\n",
        "# l1 = [[2, 5, 3], [4, 1, 6]]"
      ]
    },
    {
      "cell_type": "code",
      "execution_count": 4,
      "metadata": {
        "id": "xyBNyw4z1YSC",
        "outputId": "948ee423-eafa-4306-c0e2-57f2d5a8711e",
        "colab": {
          "base_uri": "https://localhost:8080/"
        }
      },
      "outputs": [
        {
          "output_type": "execute_result",
          "data": {
            "text/plain": [
              "array([1, 4, 5, 2, 6, 3], dtype=int16)"
            ]
          },
          "metadata": {},
          "execution_count": 4
        }
      ],
      "source": [
        "arr = np.array(l1, dtype = 'int16')\n",
        "arr"
      ]
    },
    {
      "cell_type": "code",
      "execution_count": 5,
      "metadata": {
        "id": "PWV-cQ2E1YSD"
      },
      "outputs": [],
      "source": [
        "zeros_arr = np.zeros((2, 4), dtype = 'int')\n",
        "ones_arr = np.ones((2, 4), dtype = 'int')\n",
        "range_arr = np.arange(5, 15)\n",
        "lin_arr = np.linspace(2, 10, 5)\n",
        "identity_arr = np.identity(5)\n",
        "empty_arr = np.empty((2,4), dtype = np.int16)"
      ]
    },
    {
      "cell_type": "code",
      "execution_count": 6,
      "metadata": {
        "id": "lEmU5-Kd1YSE",
        "outputId": "b51c6fcc-4fab-4180-e3b5-7ff49afa6925",
        "colab": {
          "base_uri": "https://localhost:8080/"
        }
      },
      "outputs": [
        {
          "output_type": "execute_result",
          "data": {
            "text/plain": [
              "array([ 2.,  4.,  6.,  8., 10.])"
            ]
          },
          "metadata": {},
          "execution_count": 6
        }
      ],
      "source": [
        "lin_arr"
      ]
    },
    {
      "cell_type": "code",
      "execution_count": 7,
      "metadata": {
        "id": "8vOK0fVV1YSF",
        "outputId": "2ee6d29e-8149-4d9d-d4a8-ab7b94c76ad2",
        "colab": {
          "base_uri": "https://localhost:8080/"
        }
      },
      "outputs": [
        {
          "output_type": "stream",
          "name": "stdout",
          "text": [
            "(6,) int16 1 6 12\n",
            "4 0\n"
          ]
        }
      ],
      "source": [
        "print(arr.shape, arr.dtype, arr.ndim, arr.size, arr.nbytes)\n",
        "print(arr.argmax(), arr.argmin())"
      ]
    },
    {
      "cell_type": "code",
      "execution_count": 8,
      "metadata": {
        "id": "RN8l1Kaq1YSF",
        "colab": {
          "base_uri": "https://localhost:8080/"
        },
        "outputId": "019d31ac-e0fc-4b99-dcc4-0798684ee83a"
      },
      "outputs": [
        {
          "output_type": "execute_result",
          "data": {
            "text/plain": [
              "array([  1,   4, 100,   2, 100,   3], dtype=int16)"
            ]
          },
          "metadata": {},
          "execution_count": 8
        }
      ],
      "source": [
        "new_arr = np.where(arr > 4, 100, arr)\n",
        "new_arr"
      ]
    },
    {
      "cell_type": "code",
      "source": [
        "new_arr = new_arr * 2\n",
        "new_arr"
      ],
      "metadata": {
        "colab": {
          "base_uri": "https://localhost:8080/"
        },
        "id": "aee4lR2H4Kx_",
        "outputId": "67c1bead-7b58-428e-a679-8d8ecf180e87"
      },
      "execution_count": 9,
      "outputs": [
        {
          "output_type": "execute_result",
          "data": {
            "text/plain": [
              "array([  2,   8, 200,   4, 200,   6], dtype=int16)"
            ]
          },
          "metadata": {},
          "execution_count": 9
        }
      ]
    },
    {
      "cell_type": "code",
      "source": [
        "new_arr = new_arr.reshape(2, 3)\n",
        "new_arr"
      ],
      "metadata": {
        "colab": {
          "base_uri": "https://localhost:8080/"
        },
        "id": "JZsO_Qhd56Qh",
        "outputId": "f50cab94-8b65-487a-ee79-238f4255d130"
      },
      "execution_count": 10,
      "outputs": [
        {
          "output_type": "execute_result",
          "data": {
            "text/plain": [
              "array([[  2,   8, 200],\n",
              "       [  4, 200,   6]], dtype=int16)"
            ]
          },
          "metadata": {},
          "execution_count": 10
        }
      ]
    },
    {
      "cell_type": "code",
      "source": [
        "new_arr.reshape(6)"
      ],
      "metadata": {
        "colab": {
          "base_uri": "https://localhost:8080/"
        },
        "id": "MD7TwJXN6zvL",
        "outputId": "ec6f68c7-adc4-4756-c952-35db021e5d40"
      },
      "execution_count": 11,
      "outputs": [
        {
          "output_type": "execute_result",
          "data": {
            "text/plain": [
              "array([  2,   8, 200,   4, 200,   6], dtype=int16)"
            ]
          },
          "metadata": {},
          "execution_count": 11
        }
      ]
    },
    {
      "cell_type": "code",
      "source": [],
      "metadata": {
        "id": "opLzhhHy7QDN"
      },
      "execution_count": null,
      "outputs": []
    }
  ],
  "metadata": {
    "kernelspec": {
      "display_name": "Python 3",
      "name": "python3"
    },
    "language_info": {
      "codemirror_mode": {
        "name": "ipython",
        "version": 3
      },
      "file_extension": ".py",
      "mimetype": "text/x-python",
      "name": "python",
      "nbconvert_exporter": "python",
      "pygments_lexer": "ipython3",
      "version": "3.9.12"
    },
    "orig_nbformat": 4,
    "colab": {
      "provenance": [],
      "gpuType": "T4"
    },
    "accelerator": "GPU"
  },
  "nbformat": 4,
  "nbformat_minor": 0
}